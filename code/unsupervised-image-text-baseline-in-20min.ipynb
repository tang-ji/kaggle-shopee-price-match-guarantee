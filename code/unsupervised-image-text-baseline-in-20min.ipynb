{
 "cells": [
  {
   "cell_type": "code",
   "execution_count": 1,
   "metadata": {
    "ExecuteTime": {
     "end_time": "2021-03-18T09:59:13.247406Z",
     "start_time": "2021-03-18T09:59:13.24369Z"
    },
    "execution": {
     "iopub.execute_input": "2021-03-18T23:07:51.079449Z",
     "iopub.status.busy": "2021-03-18T23:07:51.077580Z",
     "iopub.status.idle": "2021-03-18T23:07:51.080045Z",
     "shell.execute_reply": "2021-03-18T23:07:51.080457Z"
    },
    "papermill": {
     "duration": 0.021384,
     "end_time": "2021-03-18T23:07:51.080696",
     "exception": false,
     "start_time": "2021-03-18T23:07:51.059312",
     "status": "completed"
    },
    "tags": []
   },
   "outputs": [],
   "source": [
    "# DATA_PATH = '../input/'\n",
    "DATA_PATH = '../input/shopee-product-matching/'"
   ]
  },
  {
   "cell_type": "code",
   "execution_count": 2,
   "metadata": {
    "ExecuteTime": {
     "end_time": "2021-03-18T09:59:14.869532Z",
     "start_time": "2021-03-18T09:59:14.482759Z"
    },
    "execution": {
     "iopub.execute_input": "2021-03-18T23:07:51.111617Z",
     "iopub.status.busy": "2021-03-18T23:07:51.111014Z",
     "iopub.status.idle": "2021-03-18T23:07:56.071636Z",
     "shell.execute_reply": "2021-03-18T23:07:56.070634Z"
    },
    "papermill": {
     "duration": 4.978277,
     "end_time": "2021-03-18T23:07:56.071802",
     "exception": false,
     "start_time": "2021-03-18T23:07:51.093525",
     "status": "completed"
    },
    "tags": []
   },
   "outputs": [
    {
     "ename": "ModuleNotFoundError",
     "evalue": "No module named 'cudf'",
     "output_type": "error",
     "traceback": [
      "\u001b[1;31m---------------------------------------------------------------------------\u001b[0m",
      "\u001b[1;31mModuleNotFoundError\u001b[0m                       Traceback (most recent call last)",
      "\u001b[1;32m<ipython-input-2-bfce601fba6e>\u001b[0m in \u001b[0;36m<module>\u001b[1;34m\u001b[0m\n\u001b[0;32m      4\u001b[0m \u001b[1;32mfrom\u001b[0m \u001b[0mtqdm\u001b[0m \u001b[1;32mimport\u001b[0m \u001b[0mtqdm_notebook\u001b[0m\u001b[1;33m\u001b[0m\u001b[1;33m\u001b[0m\u001b[0m\n\u001b[0;32m      5\u001b[0m \u001b[1;33m\u001b[0m\u001b[0m\n\u001b[1;32m----> 6\u001b[1;33m \u001b[1;32mimport\u001b[0m \u001b[0mcudf\u001b[0m\u001b[1;33m,\u001b[0m \u001b[0mcuml\u001b[0m\u001b[1;33m,\u001b[0m \u001b[0mcupy\u001b[0m\u001b[1;33m\u001b[0m\u001b[1;33m\u001b[0m\u001b[0m\n\u001b[0m\u001b[0;32m      7\u001b[0m \u001b[1;32mfrom\u001b[0m \u001b[0mcuml\u001b[0m\u001b[1;33m.\u001b[0m\u001b[0mfeature_extraction\u001b[0m\u001b[1;33m.\u001b[0m\u001b[0mtext\u001b[0m \u001b[1;32mimport\u001b[0m \u001b[0mTfidfVectorizer\u001b[0m\u001b[1;33m\u001b[0m\u001b[1;33m\u001b[0m\u001b[0m\n\u001b[0;32m      8\u001b[0m \u001b[1;32mfrom\u001b[0m \u001b[0mcuml\u001b[0m\u001b[1;33m.\u001b[0m\u001b[0mneighbors\u001b[0m \u001b[1;32mimport\u001b[0m \u001b[0mNearestNeighbors\u001b[0m\u001b[1;33m\u001b[0m\u001b[1;33m\u001b[0m\u001b[0m\n",
      "\u001b[1;31mModuleNotFoundError\u001b[0m: No module named 'cudf'"
     ]
    }
   ],
   "source": [
    "import numpy as np # linear algebra\n",
    "import pandas as pd # data processing, CSV file I/O (e.g. pd.read_csv)\n",
    "import cv2, matplotlib.pyplot as plt\n",
    "from tqdm import tqdm_notebook\n",
    "\n",
    "import cudf, cuml, cupy\n",
    "from cuml.feature_extraction.text import TfidfVectorizer\n",
    "from cuml.neighbors import NearestNeighbors\n",
    "\n",
    "def getMetric(col):\n",
    "    def f1score(row):\n",
    "        n = len( np.intersect1d(row.target,row[col]) )\n",
    "        return 2*n / (len(row.target)+len(row[col]))\n",
    "    return f1score"
   ]
  },
  {
   "cell_type": "code",
   "execution_count": null,
   "metadata": {
    "ExecuteTime": {
     "end_time": "2021-03-18T09:59:15.92512Z",
     "start_time": "2021-03-18T09:59:15.308672Z"
    },
    "execution": {
     "iopub.execute_input": "2021-03-18T23:07:56.109933Z",
     "iopub.status.busy": "2021-03-18T23:07:56.109322Z",
     "iopub.status.idle": "2021-03-18T23:08:00.945489Z",
     "shell.execute_reply": "2021-03-18T23:08:00.944919Z"
    },
    "papermill": {
     "duration": 4.860382,
     "end_time": "2021-03-18T23:08:00.945626",
     "exception": false,
     "start_time": "2021-03-18T23:07:56.085244",
     "status": "completed"
    },
    "tags": []
   },
   "outputs": [],
   "source": [
    "COMPUTE_CV = True\n",
    "\n",
    "test = pd.read_csv(DATA_PATH + 'test.csv')\n",
    "if len(test)>3: COMPUTE_CV = False\n",
    "else: print('this submission notebook will compute CV score, but commit notebook will not')\n",
    "\n",
    "# COMPUTE_CV = False\n",
    "\n",
    "if COMPUTE_CV:\n",
    "    train = pd.read_csv(DATA_PATH + 'train.csv')\n",
    "    train['image'] = DATA_PATH + 'train_images/' + train['image']\n",
    "    tmp = train.groupby('label_group').posting_id.agg('unique').to_dict()\n",
    "    train['target'] = train.label_group.map(tmp)\n",
    "    train_gf = cudf.read_csv(DATA_PATH + 'train.csv')\n",
    "else:\n",
    "    train = pd.read_csv(DATA_PATH + 'test.csv')\n",
    "    train['image'] = DATA_PATH + 'test_images/' + train['image']\n",
    "    train_gf = cudf.read_csv(DATA_PATH + 'test.csv')\n",
    "    \n",
    "print('train shape is', train.shape )\n",
    "train.head()"
   ]
  },
  {
   "cell_type": "markdown",
   "metadata": {
    "papermill": {
     "duration": 0.014127,
     "end_time": "2021-03-18T23:08:00.975238",
     "exception": false,
     "start_time": "2021-03-18T23:08:00.961111",
     "status": "completed"
    },
    "tags": []
   },
   "source": [
    "# image hash"
   ]
  },
  {
   "cell_type": "code",
   "execution_count": 4,
   "metadata": {
    "ExecuteTime": {
     "end_time": "2021-03-18T09:59:19.569052Z",
     "start_time": "2021-03-18T09:59:18.284395Z"
    },
    "execution": {
     "iopub.execute_input": "2021-03-18T23:08:01.011970Z",
     "iopub.status.busy": "2021-03-18T23:08:01.011022Z",
     "iopub.status.idle": "2021-03-18T23:08:02.938579Z",
     "shell.execute_reply": "2021-03-18T23:08:02.937507Z"
    },
    "papermill": {
     "duration": 1.949333,
     "end_time": "2021-03-18T23:08:02.938733",
     "exception": false,
     "start_time": "2021-03-18T23:08:00.989400",
     "status": "completed"
    },
    "tags": []
   },
   "outputs": [],
   "source": [
    "tmp = train.groupby('image_phash').posting_id.agg('unique').to_dict()\n",
    "train['oof_hash'] = train.image_phash.map(tmp)"
   ]
  },
  {
   "cell_type": "code",
   "execution_count": 5,
   "metadata": {
    "ExecuteTime": {
     "end_time": "2021-03-18T09:59:21.98207Z",
     "start_time": "2021-03-18T09:59:20.62671Z"
    },
    "execution": {
     "iopub.execute_input": "2021-03-18T23:08:02.974214Z",
     "iopub.status.busy": "2021-03-18T23:08:02.973695Z",
     "iopub.status.idle": "2021-03-18T23:08:05.124457Z",
     "shell.execute_reply": "2021-03-18T23:08:05.123785Z"
    },
    "papermill": {
     "duration": 2.170568,
     "end_time": "2021-03-18T23:08:05.124618",
     "exception": false,
     "start_time": "2021-03-18T23:08:02.954050",
     "status": "completed"
    },
    "scrolled": true,
    "tags": []
   },
   "outputs": [
    {
     "name": "stdout",
     "output_type": "stream",
     "text": [
      "CV score for baseline = 0.5530933399167943\n"
     ]
    }
   ],
   "source": [
    "if COMPUTE_CV:\n",
    "    train['f1'] = train.apply(getMetric('oof_hash'),axis=1)\n",
    "    print('CV score for baseline =',train.f1.mean())"
   ]
  },
  {
   "cell_type": "markdown",
   "metadata": {
    "papermill": {
     "duration": 0.014027,
     "end_time": "2021-03-18T23:08:05.154766",
     "exception": false,
     "start_time": "2021-03-18T23:08:05.140739",
     "status": "completed"
    },
    "tags": []
   },
   "source": [
    "# image CNN"
   ]
  },
  {
   "cell_type": "code",
   "execution_count": 6,
   "metadata": {
    "ExecuteTime": {
     "end_time": "2021-03-18T09:59:24.147684Z",
     "start_time": "2021-03-18T09:59:23.6933Z"
    },
    "execution": {
     "iopub.execute_input": "2021-03-18T23:08:05.190305Z",
     "iopub.status.busy": "2021-03-18T23:08:05.189761Z",
     "iopub.status.idle": "2021-03-18T23:08:06.397909Z",
     "shell.execute_reply": "2021-03-18T23:08:06.396897Z"
    },
    "papermill": {
     "duration": 1.229058,
     "end_time": "2021-03-18T23:08:06.398043",
     "exception": false,
     "start_time": "2021-03-18T23:08:05.168985",
     "status": "completed"
    },
    "tags": []
   },
   "outputs": [],
   "source": [
    "from PIL import Image\n",
    "\n",
    "import torch\n",
    "torch.manual_seed(0)\n",
    "torch.backends.cudnn.deterministic = False\n",
    "torch.backends.cudnn.benchmark = True\n",
    "\n",
    "import torchvision.models as models\n",
    "import torchvision.transforms as transforms\n",
    "import torchvision.datasets as datasets\n",
    "import torch.nn as nn\n",
    "import torch.nn.functional as F\n",
    "import torch.optim as optim\n",
    "from torch.autograd import Variable\n",
    "from torch.utils.data.dataset import Dataset\n",
    "\n",
    "class ShopeeImageDataset(Dataset):\n",
    "    def __init__(self, img_path, transform):\n",
    "        self.img_path = img_path\n",
    "        self.transform = transform\n",
    "        \n",
    "    def __getitem__(self, index):\n",
    "        img = Image.open(self.img_path[index]).convert('RGB')\n",
    "        img = self.transform(img)\n",
    "        return img\n",
    "    \n",
    "    def __len__(self):\n",
    "        return len(self.img_path)"
   ]
  },
  {
   "cell_type": "code",
   "execution_count": 7,
   "metadata": {
    "ExecuteTime": {
     "end_time": "2021-03-18T09:59:25.6502Z",
     "start_time": "2021-03-18T09:59:25.64389Z"
    },
    "execution": {
     "iopub.execute_input": "2021-03-18T23:08:06.435250Z",
     "iopub.status.busy": "2021-03-18T23:08:06.433517Z",
     "iopub.status.idle": "2021-03-18T23:08:06.435832Z",
     "shell.execute_reply": "2021-03-18T23:08:06.436216Z"
    },
    "papermill": {
     "duration": 0.023628,
     "end_time": "2021-03-18T23:08:06.436361",
     "exception": false,
     "start_time": "2021-03-18T23:08:06.412733",
     "status": "completed"
    },
    "tags": []
   },
   "outputs": [],
   "source": [
    "imagedataset = ShopeeImageDataset(\n",
    "    train['image'].values,\n",
    "    transforms.Compose([\n",
    "        transforms.Resize((512, 512)),\n",
    "        transforms.ToTensor(),\n",
    "        transforms.Normalize([0.485, 0.456, 0.406], [0.229, 0.224, 0.225])\n",
    "]))\n",
    "    \n",
    "imageloader = torch.utils.data.DataLoader(\n",
    "    imagedataset,\n",
    "    batch_size=10, shuffle=False, num_workers=2\n",
    ")"
   ]
  },
  {
   "cell_type": "code",
   "execution_count": 8,
   "metadata": {
    "ExecuteTime": {
     "end_time": "2021-03-18T09:59:27.08827Z",
     "start_time": "2021-03-18T09:59:27.083495Z"
    },
    "execution": {
     "iopub.execute_input": "2021-03-18T23:08:06.470521Z",
     "iopub.status.busy": "2021-03-18T23:08:06.469898Z",
     "iopub.status.idle": "2021-03-18T23:08:06.473823Z",
     "shell.execute_reply": "2021-03-18T23:08:06.473406Z"
    },
    "papermill": {
     "duration": 0.023376,
     "end_time": "2021-03-18T23:08:06.473926",
     "exception": false,
     "start_time": "2021-03-18T23:08:06.450550",
     "status": "completed"
    },
    "tags": []
   },
   "outputs": [],
   "source": [
    "class ShopeeImageEmbeddingNet(nn.Module):\n",
    "    def __init__(self):\n",
    "        super(ShopeeImageEmbeddingNet, self).__init__()\n",
    "              \n",
    "        model = models.resnet18(True)\n",
    "        model.avgpool = nn.AdaptiveMaxPool2d(output_size=(1, 1))\n",
    "        model = nn.Sequential(*list(model.children())[:-1])\n",
    "        model.eval()\n",
    "        self.model = model\n",
    "        \n",
    "    def forward(self, img):        \n",
    "        out = self.model(img)\n",
    "        return out"
   ]
  },
  {
   "cell_type": "code",
   "execution_count": 9,
   "metadata": {
    "execution": {
     "iopub.execute_input": "2021-03-18T23:08:06.507810Z",
     "iopub.status.busy": "2021-03-18T23:08:06.507272Z",
     "iopub.status.idle": "2021-03-18T23:08:09.683207Z",
     "shell.execute_reply": "2021-03-18T23:08:09.682309Z"
    },
    "papermill": {
     "duration": 3.195146,
     "end_time": "2021-03-18T23:08:09.683356",
     "exception": false,
     "start_time": "2021-03-18T23:08:06.488210",
     "status": "completed"
    },
    "tags": []
   },
   "outputs": [],
   "source": [
    "!mkdir -p /root/.cache/torch/hub/checkpoints/\n",
    "!cp ../input/pretrained-pytorch-models/resnet18-5c106cde.pth /root/.cache/torch/hub/checkpoints/"
   ]
  },
  {
   "cell_type": "code",
   "execution_count": 10,
   "metadata": {
    "ExecuteTime": {
     "end_time": "2021-03-18T10:01:20.420477Z",
     "start_time": "2021-03-18T09:59:28.809744Z"
    },
    "execution": {
     "iopub.execute_input": "2021-03-18T23:08:09.719542Z",
     "iopub.status.busy": "2021-03-18T23:08:09.719022Z",
     "iopub.status.idle": "2021-03-18T23:18:49.212833Z",
     "shell.execute_reply": "2021-03-18T23:18:49.212402Z"
    },
    "papermill": {
     "duration": 639.514314,
     "end_time": "2021-03-18T23:18:49.212965",
     "exception": false,
     "start_time": "2021-03-18T23:08:09.698651",
     "status": "completed"
    },
    "tags": []
   },
   "outputs": [
    {
     "name": "stderr",
     "output_type": "stream",
     "text": [
      "/opt/conda/lib/python3.7/site-packages/ipykernel_launcher.py:8: TqdmDeprecationWarning: This function will be removed in tqdm==5.0.0\n",
      "Please use `tqdm.notebook.tqdm` instead of `tqdm.tqdm_notebook`\n",
      "  \n"
     ]
    },
    {
     "data": {
      "application/vnd.jupyter.widget-view+json": {
       "model_id": "1cb2da4f88df4b6985b802f481e5e791",
       "version_major": 2,
       "version_minor": 0
      },
      "text/plain": [
       "  0%|          | 0/3425 [00:00<?, ?it/s]"
      ]
     },
     "metadata": {},
     "output_type": "display_data"
    }
   ],
   "source": [
    "DEVICE = 'cuda'\n",
    "\n",
    "imgmodel = ShopeeImageEmbeddingNet()\n",
    "imgmodel = imgmodel.to(DEVICE)\n",
    "\n",
    "imagefeat = []\n",
    "with torch.no_grad():\n",
    "    for data in tqdm_notebook(imageloader):\n",
    "        data = data.to(DEVICE)\n",
    "        feat = imgmodel(data)\n",
    "        feat = feat.reshape(feat.shape[0], feat.shape[1])\n",
    "        feat = feat.data.cpu().numpy()\n",
    "        \n",
    "        imagefeat.append(feat)"
   ]
  },
  {
   "cell_type": "code",
   "execution_count": 11,
   "metadata": {
    "ExecuteTime": {
     "end_time": "2021-03-18T10:01:43.818543Z",
     "start_time": "2021-03-18T10:01:43.401624Z"
    },
    "execution": {
     "iopub.execute_input": "2021-03-18T23:18:49.253338Z",
     "iopub.status.busy": "2021-03-18T23:18:49.252816Z",
     "iopub.status.idle": "2021-03-18T23:18:49.336871Z",
     "shell.execute_reply": "2021-03-18T23:18:49.336388Z"
    },
    "papermill": {
     "duration": 0.107595,
     "end_time": "2021-03-18T23:18:49.337005",
     "exception": false,
     "start_time": "2021-03-18T23:18:49.229410",
     "status": "completed"
    },
    "scrolled": true,
    "tags": []
   },
   "outputs": [],
   "source": [
    "from sklearn.preprocessing import normalize\n",
    "\n",
    "# l2 norm to kill all the sim in 0-1\n",
    "imagefeat = np.vstack(imagefeat)\n",
    "imagefeat = normalize(imagefeat)"
   ]
  },
  {
   "cell_type": "code",
   "execution_count": 12,
   "metadata": {
    "execution": {
     "iopub.execute_input": "2021-03-18T23:18:49.375551Z",
     "iopub.status.busy": "2021-03-18T23:18:49.374623Z",
     "iopub.status.idle": "2021-03-18T23:18:50.002186Z",
     "shell.execute_reply": "2021-03-18T23:18:50.002622Z"
    },
    "papermill": {
     "duration": 0.649973,
     "end_time": "2021-03-18T23:18:50.002767",
     "exception": false,
     "start_time": "2021-03-18T23:18:49.352794",
     "status": "completed"
    },
    "tags": []
   },
   "outputs": [
    {
     "data": {
      "text/plain": [
       "NearestNeighbors(n_neighbors=2, verbose=4, handle=<cuml.raft.common.handle.Handle object at 0x7f492c0393f0>, algorithm='brute', metric='euclidean', p=2, metric_params=None, output_type='numpy')"
      ]
     },
     "execution_count": 12,
     "metadata": {},
     "output_type": "execute_result"
    }
   ],
   "source": [
    "KNN = 50\n",
    "if len(test)==3: KNN = 2\n",
    "model = NearestNeighbors(n_neighbors=KNN)\n",
    "model.fit(imagefeat)"
   ]
  },
  {
   "cell_type": "code",
   "execution_count": 13,
   "metadata": {
    "ExecuteTime": {
     "end_time": "2021-03-18T10:01:54.771453Z",
     "start_time": "2021-03-18T10:01:44.50243Z"
    },
    "execution": {
     "iopub.execute_input": "2021-03-18T23:18:50.042778Z",
     "iopub.status.busy": "2021-03-18T23:18:50.041591Z",
     "iopub.status.idle": "2021-03-18T23:19:14.186990Z",
     "shell.execute_reply": "2021-03-18T23:19:14.185937Z"
    },
    "papermill": {
     "duration": 24.168528,
     "end_time": "2021-03-18T23:19:14.187138",
     "exception": false,
     "start_time": "2021-03-18T23:18:50.018610",
     "status": "completed"
    },
    "tags": []
   },
   "outputs": [
    {
     "name": "stdout",
     "output_type": "stream",
     "text": [
      "Finding similar images...\n",
      "chunk 0 to 4096\n",
      "chunk 4096 to 8192\n",
      "chunk 8192 to 12288\n",
      "chunk 12288 to 16384\n",
      "chunk 16384 to 20480\n",
      "chunk 20480 to 24576\n",
      "chunk 24576 to 28672\n",
      "chunk 28672 to 32768\n",
      "chunk 32768 to 34250\n"
     ]
    }
   ],
   "source": [
    "preds = []\n",
    "CHUNK = 1024*4\n",
    "\n",
    "imagefeat = cupy.array(imagefeat)\n",
    "\n",
    "print('Finding similar images...')\n",
    "CTS = len(imagefeat)//CHUNK\n",
    "if len(imagefeat)%CHUNK!=0: CTS += 1\n",
    "for j in range( CTS ):\n",
    "    \n",
    "    a = j*CHUNK\n",
    "    b = (j+1)*CHUNK\n",
    "    b = min(b, len(imagefeat))\n",
    "    print('chunk',a,'to',b)\n",
    "    \n",
    "    distances = cupy.matmul(imagefeat, imagefeat[a:b].T).T\n",
    "    # distances = np.dot(imagefeat[a:b,], imagefeat.T)\n",
    "    \n",
    "    for k in range(b-a):\n",
    "        IDX = cupy.where(distances[k,]>0.95)[0]\n",
    "        # IDX = np.where(distances[k,]>0.95)[0][:]\n",
    "        o = train.iloc[cupy.asnumpy(IDX)].posting_id.values\n",
    "        preds.append(o)\n",
    "        \n",
    "# del imagefeat, imgmodel"
   ]
  },
  {
   "cell_type": "code",
   "execution_count": 14,
   "metadata": {
    "ExecuteTime": {
     "end_time": "2021-03-18T10:01:58.132852Z",
     "start_time": "2021-03-18T10:01:56.678412Z"
    },
    "execution": {
     "iopub.execute_input": "2021-03-18T23:19:14.233719Z",
     "iopub.status.busy": "2021-03-18T23:19:14.232912Z",
     "iopub.status.idle": "2021-03-18T23:19:16.449466Z",
     "shell.execute_reply": "2021-03-18T23:19:16.448652Z"
    },
    "papermill": {
     "duration": 2.243774,
     "end_time": "2021-03-18T23:19:16.449648",
     "exception": false,
     "start_time": "2021-03-18T23:19:14.205874",
     "status": "completed"
    },
    "tags": []
   },
   "outputs": [
    {
     "name": "stdout",
     "output_type": "stream",
     "text": [
      "CV score for baseline = 0.6527899883424048\n"
     ]
    }
   ],
   "source": [
    "train['oof_cnn'] = preds\n",
    "\n",
    "if COMPUTE_CV:\n",
    "    train['f1'] = train.apply(getMetric('oof_cnn'),axis=1)\n",
    "    print('CV score for baseline =',train.f1.mean())"
   ]
  },
  {
   "cell_type": "markdown",
   "metadata": {
    "papermill": {
     "duration": 0.018247,
     "end_time": "2021-03-18T23:19:16.487100",
     "exception": false,
     "start_time": "2021-03-18T23:19:16.468853",
     "status": "completed"
    },
    "tags": []
   },
   "source": [
    "# title TFIDF"
   ]
  },
  {
   "cell_type": "code",
   "execution_count": 15,
   "metadata": {
    "ExecuteTime": {
     "end_time": "2021-03-18T10:02:00.631468Z",
     "start_time": "2021-03-18T10:01:59.851964Z"
    },
    "execution": {
     "iopub.execute_input": "2021-03-18T23:19:16.530451Z",
     "iopub.status.busy": "2021-03-18T23:19:16.529807Z",
     "iopub.status.idle": "2021-03-18T23:19:32.149543Z",
     "shell.execute_reply": "2021-03-18T23:19:32.149073Z"
    },
    "papermill": {
     "duration": 15.643462,
     "end_time": "2021-03-18T23:19:32.149674",
     "exception": false,
     "start_time": "2021-03-18T23:19:16.506212",
     "status": "completed"
    },
    "tags": []
   },
   "outputs": [
    {
     "name": "stderr",
     "output_type": "stream",
     "text": [
      "/opt/conda/lib/python3.7/site-packages/cudf/core/join/join.py:368: UserWarning: can't safely cast column from right with type int32 to uint16, upcasting to int32\n",
      "  \"right\", dtype_r, dtype_l, libcudf_join_type\n"
     ]
    },
    {
     "name": "stdout",
     "output_type": "stream",
     "text": [
      "text embeddings shape (34250, 25000)\n"
     ]
    }
   ],
   "source": [
    "# from sklearn.feature_extraction.text import TfidfVectorizer\n",
    "model = TfidfVectorizer(stop_words=None, binary=True, max_features=25000)\n",
    "text_embeddings = model.fit_transform(train_gf.title).toarray()\n",
    "print('text embeddings shape',text_embeddings.shape)"
   ]
  },
  {
   "cell_type": "code",
   "execution_count": 16,
   "metadata": {
    "ExecuteTime": {
     "end_time": "2021-03-18T10:05:46.252393Z",
     "start_time": "2021-03-18T10:02:01.803979Z"
    },
    "execution": {
     "iopub.execute_input": "2021-03-18T23:19:32.198379Z",
     "iopub.status.busy": "2021-03-18T23:19:32.197539Z",
     "iopub.status.idle": "2021-03-18T23:20:02.876762Z",
     "shell.execute_reply": "2021-03-18T23:20:02.876121Z"
    },
    "papermill": {
     "duration": 30.707718,
     "end_time": "2021-03-18T23:20:02.876890",
     "exception": false,
     "start_time": "2021-03-18T23:19:32.169172",
     "status": "completed"
    },
    "tags": []
   },
   "outputs": [
    {
     "name": "stdout",
     "output_type": "stream",
     "text": [
      "Finding similar titles...\n",
      "chunk 0 to 4096\n",
      "chunk 4096 to 8192\n",
      "chunk 8192 to 12288\n",
      "chunk 12288 to 16384\n",
      "chunk 16384 to 20480\n",
      "chunk 20480 to 24576\n",
      "chunk 24576 to 28672\n",
      "chunk 28672 to 32768\n",
      "chunk 32768 to 34250\n"
     ]
    }
   ],
   "source": [
    "preds = []\n",
    "CHUNK = 1024*4\n",
    "\n",
    "print('Finding similar titles...')\n",
    "CTS = len(train)//CHUNK\n",
    "if len(train)%CHUNK!=0: CTS += 1\n",
    "for j in range( CTS ):\n",
    "    \n",
    "    a = j*CHUNK\n",
    "    b = (j+1)*CHUNK\n",
    "    b = min(b,len(train))\n",
    "    print('chunk',a,'to',b)\n",
    "    \n",
    "    # COSINE SIMILARITY DISTANCE\n",
    "    # cts = np.dot( text_embeddings, text_embeddings[a:b].T).T\n",
    "    cts = cupy.matmul(text_embeddings, text_embeddings[a:b].T).T\n",
    "    \n",
    "    for k in range(b-a):\n",
    "        # IDX = np.where(cts[k,]>0.7)[0]\n",
    "        IDX = cupy.where(cts[k,]>0.7)[0]\n",
    "        o = train.iloc[cupy.asnumpy(IDX)].posting_id.values\n",
    "        preds.append(o)\n",
    "        \n",
    "del model, text_embeddings"
   ]
  },
  {
   "cell_type": "code",
   "execution_count": 17,
   "metadata": {
    "ExecuteTime": {
     "end_time": "2021-03-18T10:06:03.146166Z",
     "start_time": "2021-03-18T10:06:01.83687Z"
    },
    "execution": {
     "iopub.execute_input": "2021-03-18T23:20:02.937457Z",
     "iopub.status.busy": "2021-03-18T23:20:02.936582Z",
     "iopub.status.idle": "2021-03-18T23:20:05.095021Z",
     "shell.execute_reply": "2021-03-18T23:20:05.095530Z"
    },
    "papermill": {
     "duration": 2.190156,
     "end_time": "2021-03-18T23:20:05.095732",
     "exception": false,
     "start_time": "2021-03-18T23:20:02.905576",
     "status": "completed"
    },
    "tags": []
   },
   "outputs": [
    {
     "name": "stdout",
     "output_type": "stream",
     "text": [
      "CV score for baseline = 0.6137154152579091\n"
     ]
    }
   ],
   "source": [
    "train['oof_text'] = preds\n",
    "\n",
    "if COMPUTE_CV:\n",
    "    train['f1'] = train.apply(getMetric('oof_text'),axis=1)\n",
    "    print('CV score for baseline =',train.f1.mean())"
   ]
  },
  {
   "cell_type": "code",
   "execution_count": 18,
   "metadata": {
    "ExecuteTime": {
     "end_time": "2021-03-18T10:06:04.931476Z",
     "start_time": "2021-03-18T10:06:04.925838Z"
    },
    "execution": {
     "iopub.execute_input": "2021-03-18T23:20:05.153540Z",
     "iopub.status.busy": "2021-03-18T23:20:05.152881Z",
     "iopub.status.idle": "2021-03-18T23:20:05.157016Z",
     "shell.execute_reply": "2021-03-18T23:20:05.156546Z"
    },
    "papermill": {
     "duration": 0.034801,
     "end_time": "2021-03-18T23:20:05.157135",
     "exception": false,
     "start_time": "2021-03-18T23:20:05.122334",
     "status": "completed"
    },
    "tags": []
   },
   "outputs": [],
   "source": [
    "def combine_for_sub(row):\n",
    "    x = np.concatenate([row.oof_text,row.oof_cnn, row.oof_hash])\n",
    "    return ' '.join( np.unique(x) )\n",
    "\n",
    "def combine_for_cv(row):\n",
    "    x = np.concatenate([row.oof_text,row.oof_cnn, row.oof_hash])\n",
    "    return np.unique(x)"
   ]
  },
  {
   "cell_type": "code",
   "execution_count": 19,
   "metadata": {
    "ExecuteTime": {
     "end_time": "2021-03-18T10:06:09.759812Z",
     "start_time": "2021-03-18T10:06:05.955972Z"
    },
    "execution": {
     "iopub.execute_input": "2021-03-18T23:20:05.209352Z",
     "iopub.status.busy": "2021-03-18T23:20:05.208575Z",
     "iopub.status.idle": "2021-03-18T23:20:12.426394Z",
     "shell.execute_reply": "2021-03-18T23:20:12.425921Z"
    },
    "papermill": {
     "duration": 7.245672,
     "end_time": "2021-03-18T23:20:12.426532",
     "exception": false,
     "start_time": "2021-03-18T23:20:05.180860",
     "status": "completed"
    },
    "tags": []
   },
   "outputs": [
    {
     "name": "stdout",
     "output_type": "stream",
     "text": [
      "CV Score = 0.7342468156992966\n"
     ]
    }
   ],
   "source": [
    "if COMPUTE_CV:\n",
    "    tmp = train.groupby('label_group').posting_id.agg('unique').to_dict()\n",
    "    train['target'] = train.label_group.map(tmp)\n",
    "    train['oof'] = train.apply(combine_for_cv,axis=1)\n",
    "    train['f1'] = train.apply(getMetric('oof'),axis=1)\n",
    "    print('CV Score =', train.f1.mean() )\n",
    "\n",
    "train['matches'] = train.apply(combine_for_sub,axis=1)"
   ]
  },
  {
   "cell_type": "code",
   "execution_count": 20,
   "metadata": {
    "ExecuteTime": {
     "end_time": "2021-03-18T10:06:12.385916Z",
     "start_time": "2021-03-18T10:06:12.180234Z"
    },
    "execution": {
     "iopub.execute_input": "2021-03-18T23:20:12.477261Z",
     "iopub.status.busy": "2021-03-18T23:20:12.476468Z",
     "iopub.status.idle": "2021-03-18T23:20:12.807426Z",
     "shell.execute_reply": "2021-03-18T23:20:12.807853Z"
    },
    "papermill": {
     "duration": 0.358857,
     "end_time": "2021-03-18T23:20:12.808034",
     "exception": false,
     "start_time": "2021-03-18T23:20:12.449177",
     "status": "completed"
    },
    "tags": []
   },
   "outputs": [
    {
     "data": {
      "text/html": [
       "<div>\n",
       "<style scoped>\n",
       "    .dataframe tbody tr th:only-of-type {\n",
       "        vertical-align: middle;\n",
       "    }\n",
       "\n",
       "    .dataframe tbody tr th {\n",
       "        vertical-align: top;\n",
       "    }\n",
       "\n",
       "    .dataframe thead th {\n",
       "        text-align: right;\n",
       "    }\n",
       "</style>\n",
       "<table border=\"1\" class=\"dataframe\">\n",
       "  <thead>\n",
       "    <tr style=\"text-align: right;\">\n",
       "      <th></th>\n",
       "      <th>posting_id</th>\n",
       "      <th>matches</th>\n",
       "    </tr>\n",
       "  </thead>\n",
       "  <tbody>\n",
       "    <tr>\n",
       "      <th>0</th>\n",
       "      <td>train_129225211</td>\n",
       "      <td>train_129225211 train_2278313361</td>\n",
       "    </tr>\n",
       "    <tr>\n",
       "      <th>1</th>\n",
       "      <td>train_3386243561</td>\n",
       "      <td>train_3386243561</td>\n",
       "    </tr>\n",
       "    <tr>\n",
       "      <th>2</th>\n",
       "      <td>train_2288590299</td>\n",
       "      <td>train_2288590299</td>\n",
       "    </tr>\n",
       "    <tr>\n",
       "      <th>3</th>\n",
       "      <td>train_2406599165</td>\n",
       "      <td>train_1508100548 train_1744956981 train_240659...</td>\n",
       "    </tr>\n",
       "    <tr>\n",
       "      <th>4</th>\n",
       "      <td>train_3369186413</td>\n",
       "      <td>train_3369186413</td>\n",
       "    </tr>\n",
       "  </tbody>\n",
       "</table>\n",
       "</div>"
      ],
      "text/plain": [
       "         posting_id                                            matches\n",
       "0   train_129225211                   train_129225211 train_2278313361\n",
       "1  train_3386243561                                   train_3386243561\n",
       "2  train_2288590299                                   train_2288590299\n",
       "3  train_2406599165  train_1508100548 train_1744956981 train_240659...\n",
       "4  train_3369186413                                   train_3369186413"
      ]
     },
     "execution_count": 20,
     "metadata": {},
     "output_type": "execute_result"
    }
   ],
   "source": [
    "train[['posting_id','matches']].to_csv('submission.csv',index=False)\n",
    "sub = pd.read_csv('submission.csv')\n",
    "sub.head()"
   ]
  },
  {
   "cell_type": "code",
   "execution_count": null,
   "metadata": {
    "papermill": {
     "duration": 0.022945,
     "end_time": "2021-03-18T23:20:12.854827",
     "exception": false,
     "start_time": "2021-03-18T23:20:12.831882",
     "status": "completed"
    },
    "tags": []
   },
   "outputs": [],
   "source": []
  }
 ],
 "metadata": {
  "kernelspec": {
   "display_name": "Python 3",
   "language": "python",
   "name": "python3"
  },
  "language_info": {
   "codemirror_mode": {
    "name": "ipython",
    "version": 3
   },
   "file_extension": ".py",
   "mimetype": "text/x-python",
   "name": "python",
   "nbconvert_exporter": "python",
   "pygments_lexer": "ipython3",
   "version": "3.7.7"
  },
  "papermill": {
   "default_parameters": {},
   "duration": 748.957408,
   "end_time": "2021-03-18T23:20:14.791205",
   "environment_variables": {},
   "exception": null,
   "input_path": "__notebook__.ipynb",
   "output_path": "__notebook__.ipynb",
   "parameters": {},
   "start_time": "2021-03-18T23:07:45.833797",
   "version": "2.2.2"
  },
  "widgets": {
   "application/vnd.jupyter.widget-state+json": {
    "state": {
     "1cb2da4f88df4b6985b802f481e5e791": {
      "model_module": "@jupyter-widgets/controls",
      "model_module_version": "1.5.0",
      "model_name": "HBoxModel",
      "state": {
       "_dom_classes": [],
       "_model_module": "@jupyter-widgets/controls",
       "_model_module_version": "1.5.0",
       "_model_name": "HBoxModel",
       "_view_count": null,
       "_view_module": "@jupyter-widgets/controls",
       "_view_module_version": "1.5.0",
       "_view_name": "HBoxView",
       "box_style": "",
       "children": [
        "IPY_MODEL_800aa7bde6964eac8e2e8ea13696dd96",
        "IPY_MODEL_253f7ed4f6af4efa8d3ff156c5a01c92",
        "IPY_MODEL_e1689e6e3acc4097a1fc85db06bdebd9"
       ],
       "layout": "IPY_MODEL_f4670d9656804efca3a213c4e0e3be2c"
      }
     },
     "253f7ed4f6af4efa8d3ff156c5a01c92": {
      "model_module": "@jupyter-widgets/controls",
      "model_module_version": "1.5.0",
      "model_name": "FloatProgressModel",
      "state": {
       "_dom_classes": [],
       "_model_module": "@jupyter-widgets/controls",
       "_model_module_version": "1.5.0",
       "_model_name": "FloatProgressModel",
       "_view_count": null,
       "_view_module": "@jupyter-widgets/controls",
       "_view_module_version": "1.5.0",
       "_view_name": "ProgressView",
       "bar_style": "success",
       "description": "",
       "description_tooltip": null,
       "layout": "IPY_MODEL_3e49414f25fb45dba34cc301cb295efa",
       "max": 3425,
       "min": 0,
       "orientation": "horizontal",
       "style": "IPY_MODEL_298be31c588042d68e8ccba81a099115",
       "value": 3425
      }
     },
     "298be31c588042d68e8ccba81a099115": {
      "model_module": "@jupyter-widgets/controls",
      "model_module_version": "1.5.0",
      "model_name": "ProgressStyleModel",
      "state": {
       "_model_module": "@jupyter-widgets/controls",
       "_model_module_version": "1.5.0",
       "_model_name": "ProgressStyleModel",
       "_view_count": null,
       "_view_module": "@jupyter-widgets/base",
       "_view_module_version": "1.2.0",
       "_view_name": "StyleView",
       "bar_color": null,
       "description_width": ""
      }
     },
     "3e49414f25fb45dba34cc301cb295efa": {
      "model_module": "@jupyter-widgets/base",
      "model_module_version": "1.2.0",
      "model_name": "LayoutModel",
      "state": {
       "_model_module": "@jupyter-widgets/base",
       "_model_module_version": "1.2.0",
       "_model_name": "LayoutModel",
       "_view_count": null,
       "_view_module": "@jupyter-widgets/base",
       "_view_module_version": "1.2.0",
       "_view_name": "LayoutView",
       "align_content": null,
       "align_items": null,
       "align_self": null,
       "border": null,
       "bottom": null,
       "display": null,
       "flex": null,
       "flex_flow": null,
       "grid_area": null,
       "grid_auto_columns": null,
       "grid_auto_flow": null,
       "grid_auto_rows": null,
       "grid_column": null,
       "grid_gap": null,
       "grid_row": null,
       "grid_template_areas": null,
       "grid_template_columns": null,
       "grid_template_rows": null,
       "height": null,
       "justify_content": null,
       "justify_items": null,
       "left": null,
       "margin": null,
       "max_height": null,
       "max_width": null,
       "min_height": null,
       "min_width": null,
       "object_fit": null,
       "object_position": null,
       "order": null,
       "overflow": null,
       "overflow_x": null,
       "overflow_y": null,
       "padding": null,
       "right": null,
       "top": null,
       "visibility": null,
       "width": null
      }
     },
     "5e913140d934485fb538bbe38cfa2566": {
      "model_module": "@jupyter-widgets/base",
      "model_module_version": "1.2.0",
      "model_name": "LayoutModel",
      "state": {
       "_model_module": "@jupyter-widgets/base",
       "_model_module_version": "1.2.0",
       "_model_name": "LayoutModel",
       "_view_count": null,
       "_view_module": "@jupyter-widgets/base",
       "_view_module_version": "1.2.0",
       "_view_name": "LayoutView",
       "align_content": null,
       "align_items": null,
       "align_self": null,
       "border": null,
       "bottom": null,
       "display": null,
       "flex": null,
       "flex_flow": null,
       "grid_area": null,
       "grid_auto_columns": null,
       "grid_auto_flow": null,
       "grid_auto_rows": null,
       "grid_column": null,
       "grid_gap": null,
       "grid_row": null,
       "grid_template_areas": null,
       "grid_template_columns": null,
       "grid_template_rows": null,
       "height": null,
       "justify_content": null,
       "justify_items": null,
       "left": null,
       "margin": null,
       "max_height": null,
       "max_width": null,
       "min_height": null,
       "min_width": null,
       "object_fit": null,
       "object_position": null,
       "order": null,
       "overflow": null,
       "overflow_x": null,
       "overflow_y": null,
       "padding": null,
       "right": null,
       "top": null,
       "visibility": null,
       "width": null
      }
     },
     "73eef36b29634ec6af31d81aff5da511": {
      "model_module": "@jupyter-widgets/controls",
      "model_module_version": "1.5.0",
      "model_name": "DescriptionStyleModel",
      "state": {
       "_model_module": "@jupyter-widgets/controls",
       "_model_module_version": "1.5.0",
       "_model_name": "DescriptionStyleModel",
       "_view_count": null,
       "_view_module": "@jupyter-widgets/base",
       "_view_module_version": "1.2.0",
       "_view_name": "StyleView",
       "description_width": ""
      }
     },
     "800aa7bde6964eac8e2e8ea13696dd96": {
      "model_module": "@jupyter-widgets/controls",
      "model_module_version": "1.5.0",
      "model_name": "HTMLModel",
      "state": {
       "_dom_classes": [],
       "_model_module": "@jupyter-widgets/controls",
       "_model_module_version": "1.5.0",
       "_model_name": "HTMLModel",
       "_view_count": null,
       "_view_module": "@jupyter-widgets/controls",
       "_view_module_version": "1.5.0",
       "_view_name": "HTMLView",
       "description": "",
       "description_tooltip": null,
       "layout": "IPY_MODEL_5e913140d934485fb538bbe38cfa2566",
       "placeholder": "​",
       "style": "IPY_MODEL_f7323b485eab4ca49a261c977f2bb064",
       "value": "100%"
      }
     },
     "e1689e6e3acc4097a1fc85db06bdebd9": {
      "model_module": "@jupyter-widgets/controls",
      "model_module_version": "1.5.0",
      "model_name": "HTMLModel",
      "state": {
       "_dom_classes": [],
       "_model_module": "@jupyter-widgets/controls",
       "_model_module_version": "1.5.0",
       "_model_name": "HTMLModel",
       "_view_count": null,
       "_view_module": "@jupyter-widgets/controls",
       "_view_module_version": "1.5.0",
       "_view_name": "HTMLView",
       "description": "",
       "description_tooltip": null,
       "layout": "IPY_MODEL_e8a37b8f7f9c4aa583ec42db1096ef60",
       "placeholder": "​",
       "style": "IPY_MODEL_73eef36b29634ec6af31d81aff5da511",
       "value": " 3425/3425 [10:35&lt;00:00,  5.40it/s]"
      }
     },
     "e8a37b8f7f9c4aa583ec42db1096ef60": {
      "model_module": "@jupyter-widgets/base",
      "model_module_version": "1.2.0",
      "model_name": "LayoutModel",
      "state": {
       "_model_module": "@jupyter-widgets/base",
       "_model_module_version": "1.2.0",
       "_model_name": "LayoutModel",
       "_view_count": null,
       "_view_module": "@jupyter-widgets/base",
       "_view_module_version": "1.2.0",
       "_view_name": "LayoutView",
       "align_content": null,
       "align_items": null,
       "align_self": null,
       "border": null,
       "bottom": null,
       "display": null,
       "flex": null,
       "flex_flow": null,
       "grid_area": null,
       "grid_auto_columns": null,
       "grid_auto_flow": null,
       "grid_auto_rows": null,
       "grid_column": null,
       "grid_gap": null,
       "grid_row": null,
       "grid_template_areas": null,
       "grid_template_columns": null,
       "grid_template_rows": null,
       "height": null,
       "justify_content": null,
       "justify_items": null,
       "left": null,
       "margin": null,
       "max_height": null,
       "max_width": null,
       "min_height": null,
       "min_width": null,
       "object_fit": null,
       "object_position": null,
       "order": null,
       "overflow": null,
       "overflow_x": null,
       "overflow_y": null,
       "padding": null,
       "right": null,
       "top": null,
       "visibility": null,
       "width": null
      }
     },
     "f4670d9656804efca3a213c4e0e3be2c": {
      "model_module": "@jupyter-widgets/base",
      "model_module_version": "1.2.0",
      "model_name": "LayoutModel",
      "state": {
       "_model_module": "@jupyter-widgets/base",
       "_model_module_version": "1.2.0",
       "_model_name": "LayoutModel",
       "_view_count": null,
       "_view_module": "@jupyter-widgets/base",
       "_view_module_version": "1.2.0",
       "_view_name": "LayoutView",
       "align_content": null,
       "align_items": null,
       "align_self": null,
       "border": null,
       "bottom": null,
       "display": null,
       "flex": null,
       "flex_flow": null,
       "grid_area": null,
       "grid_auto_columns": null,
       "grid_auto_flow": null,
       "grid_auto_rows": null,
       "grid_column": null,
       "grid_gap": null,
       "grid_row": null,
       "grid_template_areas": null,
       "grid_template_columns": null,
       "grid_template_rows": null,
       "height": null,
       "justify_content": null,
       "justify_items": null,
       "left": null,
       "margin": null,
       "max_height": null,
       "max_width": null,
       "min_height": null,
       "min_width": null,
       "object_fit": null,
       "object_position": null,
       "order": null,
       "overflow": null,
       "overflow_x": null,
       "overflow_y": null,
       "padding": null,
       "right": null,
       "top": null,
       "visibility": null,
       "width": null
      }
     },
     "f7323b485eab4ca49a261c977f2bb064": {
      "model_module": "@jupyter-widgets/controls",
      "model_module_version": "1.5.0",
      "model_name": "DescriptionStyleModel",
      "state": {
       "_model_module": "@jupyter-widgets/controls",
       "_model_module_version": "1.5.0",
       "_model_name": "DescriptionStyleModel",
       "_view_count": null,
       "_view_module": "@jupyter-widgets/base",
       "_view_module_version": "1.2.0",
       "_view_name": "StyleView",
       "description_width": ""
      }
     }
    },
    "version_major": 2,
    "version_minor": 0
   }
  }
 },
 "nbformat": 4,
 "nbformat_minor": 4
}
